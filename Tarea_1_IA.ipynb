{
  "nbformat": 4,
  "nbformat_minor": 0,
  "metadata": {
    "colab": {
      "provenance": []
    },
    "kernelspec": {
      "name": "python3",
      "display_name": "Python 3"
    },
    "language_info": {
      "name": "python"
    }
  },
  "cells": [
    {
      "cell_type": "markdown",
      "source": [
        "**Inteligencia Artificial**"
      ],
      "metadata": {
        "id": "HLlkswRMkzfo"
      }
    },
    {
      "cell_type": "markdown",
      "source": [
        "Sudoku: El objetivo del sudoku es rellenar una cuadrícula de 9x9 celdas dividida en subcuadrículas de 3x3 (también llamadas \"cajas\" o \"regiones\") con las cifras del 1 al 9 partiendo de algunos números ya dispuestos en algunas de las celdas. No se debe repetir ninguna cifra en una misma fila, columna o subcuadrícula. El n-sudoku corresponde al sudoku con NxN celdas, es decir el sudoku 9x9 corresponde al n-sudoku con n=9. Probar el algoritmo con N potencia de 3 (ej: 3, 9), especialmente con N=9. Utilizar juegos conocidos (De internet por ejemplo) o ver una estrategia para generar juegos válidos. Heurística posible: MVR (mínimo de valores restantes o también conocida como variable más restringida)."
      ],
      "metadata": {
        "id": "oBsMnVCbk3QJ"
      }
    },
    {
      "cell_type": "code",
      "execution_count": null,
      "metadata": {
        "id": "tc_zZsl_9bTK"
      },
      "outputs": [],
      "source": [
        "import random\n",
        "import pandas as pd\n",
        "import numpy as np\n",
        "import time\n",
        "import sys"
      ]
    },
    {
      "cell_type": "code",
      "source": [
        "sudoku_boards_df = pd.read_csv(\"https://raw.githubusercontent.com/MatiasLGonzalez/sudoku/main/sudoku2.csv\")\n",
        "\n",
        "puzzles = sudoku_boards_df[\"puzzle\"]\n",
        "\n",
        "puzzles"
      ],
      "metadata": {
        "colab": {
          "base_uri": "https://localhost:8080/"
        },
        "id": "tsB0o3tAxcEH",
        "outputId": "936f8ae2-b541-417a-c25a-cd93e91b6287"
      },
      "execution_count": null,
      "outputs": [
        {
          "output_type": "execute_result",
          "data": {
            "text/plain": [
              "0      0700000430400096108006349000940520003584600200...\n",
              "1      3010865040465210705000000014008000020803479000...\n",
              "2      0483015603600080909106700030200009355090102006...\n",
              "3      0083170000042051090000400703271609049014500000...\n",
              "4      0408906300001368208007405190004670524500207002...\n",
              "                             ...                        \n",
              "994    0009040722090800100005129845007200000906080400...\n",
              "995    0000740356020030000348560000060079040050600000...\n",
              "996    5000030293400607500090500039000410864209000001...\n",
              "997    0008090060000060080784025900000240074060859200...\n",
              "998    0413000600084000509008000470271500000000020810...\n",
              "Name: puzzle, Length: 999, dtype: object"
            ]
          },
          "metadata": {},
          "execution_count": 241
        }
      ]
    },
    {
      "cell_type": "markdown",
      "source": [
        "Se han desarrollado tres métodos de utilidad que nos permiten llevar a cabo las siguientes acciones:\n",
        "\n",
        "1. get_memory_usage: Este método permite obtener la cantidad de memoria en megabytes (MB) utilizada por un objeto.\n",
        "\n",
        "2. performance_check_space: Este método tiene la función de verificar la cantidad de memoria en megabytes (MB) que se utiliza durante la ejecución de un algoritmo.\n",
        "\n",
        "3. performance_check_time: Este método se encarga de verificar el tiempo que toma la ejecución de un algoritmo, expresado en segundos.\n",
        "\n",
        "4. print_board: Este método nos facilita la impresión de la matriz.\n",
        "\n",
        "5. extract_sudoku: Este método nos permite convertir un string de sudoku a una matriz\n",
        "\n",
        "6. get_random_puzzle: Este método nos permite obtener un tablero de sudoku random de la lista"
      ],
      "metadata": {
        "id": "iKuld82_cTsJ"
      }
    },
    {
      "cell_type": "code",
      "source": [
        "def performance_check_time(board,algorithm):\n",
        "  start_time = time.time()\n",
        "  algorithm(board)\n",
        "  end_time = time.time()\n",
        "  return end_time - start_time"
      ],
      "metadata": {
        "id": "vDe5desdb5Vx"
      },
      "execution_count": null,
      "outputs": []
    },
    {
      "cell_type": "code",
      "source": [
        "def print_solution(algorithm,sudoku_board):\n",
        "  result = algorithm(sudoku_board)\n",
        "  if result:\n",
        "    print(\"\\nSolución:\")\n",
        "    print(np.matrix(sudoku_board))\n",
        "  else:\n",
        "    print(\"\\nNo se pudo encontrar una solución.\")"
      ],
      "metadata": {
        "id": "0ccrGI_mm4WX"
      },
      "execution_count": null,
      "outputs": []
    },
    {
      "cell_type": "code",
      "source": [
        "def extract_sudoku(sudoku_string):\n",
        "    matrix = []\n",
        "    for i in range(9):\n",
        "        row = [int(sudoku_string[i * 9 + j]) for j in range(9)]\n",
        "        matrix.append(row)\n",
        "    return matrix"
      ],
      "metadata": {
        "id": "E0--UrrIw76y"
      },
      "execution_count": null,
      "outputs": []
    },
    {
      "cell_type": "code",
      "source": [
        "def get_random_puzzle():\n",
        "    random_index = random.randint(0, len(puzzles) - 1)\n",
        "    return extract_sudoku(puzzles[random_index])"
      ],
      "metadata": {
        "id": "NoGCmVVoyU0m"
      },
      "execution_count": null,
      "outputs": []
    },
    {
      "cell_type": "markdown",
      "source": [
        "Se crea una función que tiene la responsabilidad de validar la idoneidad de una celda en el contexto de un juego de Sudoku. Para asegurar la validez de la celda, es esencial verificar tanto la fila como la columna en la que se encuentra, además de la subcuadrícula 3 x 3 a la que pertenece. Este proceso garantiza que no haya duplicados de números en ninguno de estos contextos, lo que es fundamental para cumplir con las reglas del juego de Sudoku."
      ],
      "metadata": {
        "id": "-jdrb2LIjuLo"
      }
    },
    {
      "cell_type": "code",
      "source": [
        "def is_valid(board, row, col, num):\n",
        "  N = len(board)\n",
        "  # Verificamos la fila\n",
        "  for i in range(N):\n",
        "      if board[row][i] == num:\n",
        "          return False\n",
        "  # Verificamos la columna\n",
        "  for i in range(N):\n",
        "      if board[i][col] == num:\n",
        "          return False\n",
        "  # Verificamos el subcuadriculado\n",
        "  subgrid_size = int(N ** 0.5)\n",
        "  start_row, start_col = subgrid_size * (row // subgrid_size), subgrid_size * (col // subgrid_size)\n",
        "  for i in range(subgrid_size):\n",
        "    for j in range(subgrid_size):\n",
        "      if board[i + start_row][j + start_col] == num:\n",
        "        return False\n",
        "  return True\n"
      ],
      "metadata": {
        "id": "wIM0P2rM-jCx"
      },
      "execution_count": null,
      "outputs": []
    },
    {
      "cell_type": "markdown",
      "source": [
        "En las siguientes líneas de código, procederemos a implementar tres algoritmos diferentes en cada caso. Los tres algoritmos que implementaremos son los siguientes:\n",
        "\n",
        "\n",
        "---\n",
        "\n",
        "\n",
        "\n",
        "1. Backtracking"
      ],
      "metadata": {
        "id": "wdqo1mPrdS_C"
      }
    },
    {
      "cell_type": "code",
      "source": [
        "expanded_nodes_bt = 0\n",
        "\n",
        "def backtracking_sudoku_solver(board):\n",
        "  global expanded_nodes_bt\n",
        "  n = len(board)\n",
        "  for row in range(n):\n",
        "    for col in range(n):\n",
        "      if board[row][col] == 0:\n",
        "        for num in range(1, n + 1):\n",
        "          if is_valid(board, row, col, num):\n",
        "            board[row][col] = num\n",
        "            expanded_nodes_bt = expanded_nodes_bt + 1\n",
        "            if backtracking_sudoku_solver(board):\n",
        "              return True\n",
        "            board[row][col] = 0\n",
        "        return False\n",
        "  return True"
      ],
      "metadata": {
        "id": "rp-SmaikZ1N5"
      },
      "execution_count": null,
      "outputs": []
    },
    {
      "cell_type": "markdown",
      "source": [
        "\n",
        "2. Algoritmo de Las Vegas"
      ],
      "metadata": {
        "id": "u6A1EiLIkYcT"
      }
    },
    {
      "cell_type": "code",
      "source": [
        "expanded_nodes_lv = 0\n",
        "\n",
        "def las_vegas_sudoku_solver(board):\n",
        "  global expanded_nodes_lv\n",
        "  empty_cell = find_empty_cell(board)\n",
        "  if not empty_cell:\n",
        "    return True\n",
        "  row, col = empty_cell\n",
        "  numbers = list(range(1, 10))\n",
        "  random.shuffle(numbers)\n",
        "  for num in numbers:\n",
        "    if is_valid(board, row, col, num):\n",
        "      board[row][col] = num\n",
        "      expanded_nodes_lv = expanded_nodes_lv + 1\n",
        "      if las_vegas_sudoku_solver(board):\n",
        "        return True\n",
        "      board[row][col] = 0\n",
        "  return False\n",
        "\n",
        "def find_empty_cell(board):\n",
        "  for i in range(9):\n",
        "    for j in range(9):\n",
        "      if board[i][j] == 0:\n",
        "          return (i, j)\n",
        "  return None\n"
      ],
      "metadata": {
        "id": "LM5WGtqg-mJ8"
      },
      "execution_count": null,
      "outputs": []
    },
    {
      "cell_type": "markdown",
      "source": [
        "\n",
        "3. Algoritmo Heurístico (utilizando MVR - Mínimo de Valores Restantes)"
      ],
      "metadata": {
        "id": "jy23du2AkbPm"
      }
    },
    {
      "cell_type": "code",
      "source": [
        "expanded_nodes_csp = 0\n",
        "\n",
        "def csp_sudoku_solver(board):\n",
        "  global expanded_nodes_csp\n",
        "  mcv = most_constrained_cell(board)\n",
        "  if not mcv:\n",
        "      return True\n",
        "\n",
        "  row, col = mcv\n",
        "\n",
        "  for num in possible_values(board, row, col):\n",
        "      board[row][col] = num\n",
        "      expanded_nodes_csp = expanded_nodes_csp + 1\n",
        "      if csp_sudoku_solver(board):\n",
        "          return True\n",
        "      board[row][col] = 0\n",
        "\n",
        "  return False\n",
        "\n",
        "def possible_values(board, row, col):\n",
        "  values = set(range(1, 10))\n",
        "  values -= set(board[row])\n",
        "  values -= set([board[i][col] for i in range(9)])\n",
        "  start_row, start_col = 3 * (row // 3), 3 * (col // 3)\n",
        "  values -= set([board[start_row + i][start_col + j] for i in range(3) for j in range(3)])\n",
        "  return values\n",
        "\n",
        "def most_constrained_cell(board):\n",
        "  min_possible_values = 10\n",
        "  mcv = None\n",
        "  for i in range(9):\n",
        "    for j in range(9):\n",
        "      if board[i][j] == 0:\n",
        "        num_possible_values = len(possible_values(board, i, j))\n",
        "        if num_possible_values < min_possible_values:\n",
        "          min_possible_values = num_possible_values\n",
        "          mcv = (i, j)\n",
        "  return mcv"
      ],
      "metadata": {
        "id": "ASbMWPnBkb8-"
      },
      "execution_count": null,
      "outputs": []
    },
    {
      "cell_type": "markdown",
      "source": [
        "Realizamos las pruebas sobre un Tablero de Pruebas"
      ],
      "metadata": {
        "id": "F93AzxM0lXmD"
      }
    },
    {
      "cell_type": "markdown",
      "source": [
        "1. Backtracking"
      ],
      "metadata": {
        "id": "gikhj6gtn8Pb"
      }
    },
    {
      "cell_type": "code",
      "source": [
        "sudoku_board = get_random_puzzle()\n",
        "\n",
        "print(\"Tablero de Sudoku Original:\")\n",
        "print(np.matrix(sudoku_board))\n",
        "\n",
        "print_solution(backtracking_sudoku_solver,sudoku_board)"
      ],
      "metadata": {
        "id": "NP3zJI6r-rcW",
        "colab": {
          "base_uri": "https://localhost:8080/"
        },
        "outputId": "15f71342-6f42-4dee-c7bc-990d91a8f210"
      },
      "execution_count": null,
      "outputs": [
        {
          "output_type": "stream",
          "name": "stdout",
          "text": [
            "Tablero de Sudoku Original:\n",
            "[[0 4 9 0 1 2 6 5 7]\n",
            " [6 1 5 0 4 0 0 0 0]\n",
            " [0 8 2 6 5 0 1 0 0]\n",
            " [8 7 4 0 0 1 0 6 3]\n",
            " [2 3 0 5 0 0 0 1 9]\n",
            " [9 0 1 7 3 6 4 0 2]\n",
            " [0 6 3 0 0 8 9 0 5]\n",
            " [4 9 8 1 0 5 0 3 0]\n",
            " [0 2 7 0 0 9 0 4 1]]\n",
            "\n",
            "Solución:\n",
            "[[3 4 9 8 1 2 6 5 7]\n",
            " [6 1 5 9 4 7 3 2 8]\n",
            " [7 8 2 6 5 3 1 9 4]\n",
            " [8 7 4 2 9 1 5 6 3]\n",
            " [2 3 6 5 8 4 7 1 9]\n",
            " [9 5 1 7 3 6 4 8 2]\n",
            " [1 6 3 4 2 8 9 7 5]\n",
            " [4 9 8 1 7 5 2 3 6]\n",
            " [5 2 7 3 6 9 8 4 1]]\n"
          ]
        }
      ]
    },
    {
      "cell_type": "code",
      "source": [
        "sudoku_board = get_random_puzzle()\n",
        "\n",
        "print(\"Tablero de Sudoku Original:\")\n",
        "print(np.matrix(sudoku_board))\n",
        "\n",
        "print_solution(las_vegas_sudoku_solver,sudoku_board)"
      ],
      "metadata": {
        "colab": {
          "base_uri": "https://localhost:8080/"
        },
        "id": "a4_AqD7pmKb0",
        "outputId": "ef4dac9b-eec0-4656-faa7-42e015fef838"
      },
      "execution_count": null,
      "outputs": [
        {
          "output_type": "stream",
          "name": "stdout",
          "text": [
            "Tablero de Sudoku Original:\n",
            "[[0 0 0 0 1 0 2 5 8]\n",
            " [0 0 1 0 0 7 0 3 0]\n",
            " [0 4 2 0 3 0 1 0 7]\n",
            " [5 9 3 4 7 2 6 0 0]\n",
            " [0 0 8 0 0 0 0 0 3]\n",
            " [1 0 6 0 8 0 0 4 0]\n",
            " [0 3 9 0 0 0 0 0 2]\n",
            " [0 1 0 5 0 0 0 0 0]\n",
            " [7 0 5 0 6 0 3 9 0]]\n",
            "\n",
            "Solución:\n",
            "[[3 6 7 9 1 4 2 5 8]\n",
            " [8 5 1 6 2 7 4 3 9]\n",
            " [9 4 2 8 3 5 1 6 7]\n",
            " [5 9 3 4 7 2 6 8 1]\n",
            " [4 7 8 1 5 6 9 2 3]\n",
            " [1 2 6 3 8 9 7 4 5]\n",
            " [6 3 9 7 4 8 5 1 2]\n",
            " [2 1 4 5 9 3 8 7 6]\n",
            " [7 8 5 2 6 1 3 9 4]]\n"
          ]
        }
      ]
    },
    {
      "cell_type": "code",
      "source": [
        "sudoku_board = get_random_puzzle()\n",
        "\n",
        "print(\"Tablero de Sudoku Original:\")\n",
        "print(np.matrix(sudoku_board))\n",
        "\n",
        "print_solution(csp_sudoku_solver,sudoku_board)"
      ],
      "metadata": {
        "colab": {
          "base_uri": "https://localhost:8080/"
        },
        "id": "ldUQ8iJZloAv",
        "outputId": "b38e9b0a-8301-4235-9440-d22497eaa01f"
      },
      "execution_count": null,
      "outputs": [
        {
          "output_type": "stream",
          "name": "stdout",
          "text": [
            "Tablero de Sudoku Original:\n",
            "[[0 2 0 0 0 5 6 0 3]\n",
            " [7 0 3 0 1 2 8 0 0]\n",
            " [8 0 0 0 4 0 0 2 0]\n",
            " [0 8 0 0 0 0 0 1 0]\n",
            " [0 0 0 1 0 0 4 0 0]\n",
            " [0 1 0 0 0 8 0 0 5]\n",
            " [0 0 1 0 3 9 0 0 2]\n",
            " [0 0 0 0 5 1 0 3 0]\n",
            " [0 0 9 0 6 4 0 5 0]]\n",
            "\n",
            "Solución:\n",
            "[[1 2 4 9 8 5 6 7 3]\n",
            " [7 5 3 6 1 2 8 4 9]\n",
            " [8 9 6 3 4 7 5 2 1]\n",
            " [4 8 7 5 9 3 2 1 6]\n",
            " [9 3 5 1 2 6 4 8 7]\n",
            " [6 1 2 4 7 8 3 9 5]\n",
            " [5 4 1 8 3 9 7 6 2]\n",
            " [2 6 8 7 5 1 9 3 4]\n",
            " [3 7 9 2 6 4 1 5 8]]\n"
          ]
        }
      ]
    },
    {
      "cell_type": "markdown",
      "source": [
        "Realizamos una prueba de rendimiento teniendo en cuenta el tiempo y el espacio"
      ],
      "metadata": {
        "id": "W6gxQMWJlcpS"
      }
    },
    {
      "cell_type": "code",
      "source": [
        "sudoku_board = get_random_puzzle()\n",
        "\n",
        "print(np.matrix(sudoku_board))\n",
        "\n",
        "result_backtracking_time = performance_check_time(sudoku_board,backtracking_sudoku_solver)\n",
        "result_las_vegas_time = performance_check_time(sudoku_board,las_vegas_sudoku_solver)\n",
        "result_mvr_time = performance_check_time(sudoku_board,csp_sudoku_solver)"
      ],
      "metadata": {
        "id": "TJE7MjRzfSMF",
        "colab": {
          "base_uri": "https://localhost:8080/"
        },
        "outputId": "03579ba7-6e31-4360-aec5-607addad276b"
      },
      "execution_count": null,
      "outputs": [
        {
          "output_type": "stream",
          "name": "stdout",
          "text": [
            "[[4 7 8 9 6 2 0 0 0]\n",
            " [0 2 5 4 0 0 0 0 8]\n",
            " [6 9 0 0 3 5 7 0 0]\n",
            " [9 0 0 5 0 4 0 0 0]\n",
            " [0 0 4 0 7 0 5 0 9]\n",
            " [1 5 7 3 8 9 2 0 0]\n",
            " [8 0 0 1 0 0 0 7 5]\n",
            " [0 0 3 0 4 0 6 0 2]\n",
            " [0 4 9 0 0 6 0 8 3]]\n"
          ]
        }
      ]
    },
    {
      "cell_type": "code",
      "source": [
        "df = pd.DataFrame(\n",
        "    {\n",
        "        \"Algoritmo\":[\n",
        "            \"Backtracking\",\n",
        "            \"Las Vegas\",\n",
        "            \"CSP\"\n",
        "        ],\n",
        "        \"Tiempo (Segundos)\":[\n",
        "            result_backtracking_time,\n",
        "            result_las_vegas_time,\n",
        "            result_mvr_time\n",
        "        ],\n",
        "        \"Cantidad de Nodos Expandidos\":[\n",
        "            expanded_nodes_bt,\n",
        "            expanded_nodes_lv,\n",
        "            expanded_nodes_csp,\n",
        "        ],\n",
        "    }\n",
        ")\n",
        "df"
      ],
      "metadata": {
        "colab": {
          "base_uri": "https://localhost:8080/",
          "height": 143
        },
        "id": "AGCjeaMHgG9o",
        "outputId": "9ca7adb4-93dd-4e43-a862-fe1afb3de046"
      },
      "execution_count": null,
      "outputs": [
        {
          "output_type": "execute_result",
          "data": {
            "text/plain": [
              "      Algoritmo  Tiempo (Segundos)  Cantidad de Nodos Expandidos\n",
              "0  Backtracking           0.001152                            95\n",
              "1     Las Vegas           0.000020                           126\n",
              "2           CSP           0.000019                            55"
            ],
            "text/html": [
              "\n",
              "  <div id=\"df-825d6f3c-65ac-4e16-b4b7-8b1467f2285f\" class=\"colab-df-container\">\n",
              "    <div>\n",
              "<style scoped>\n",
              "    .dataframe tbody tr th:only-of-type {\n",
              "        vertical-align: middle;\n",
              "    }\n",
              "\n",
              "    .dataframe tbody tr th {\n",
              "        vertical-align: top;\n",
              "    }\n",
              "\n",
              "    .dataframe thead th {\n",
              "        text-align: right;\n",
              "    }\n",
              "</style>\n",
              "<table border=\"1\" class=\"dataframe\">\n",
              "  <thead>\n",
              "    <tr style=\"text-align: right;\">\n",
              "      <th></th>\n",
              "      <th>Algoritmo</th>\n",
              "      <th>Tiempo (Segundos)</th>\n",
              "      <th>Cantidad de Nodos Expandidos</th>\n",
              "    </tr>\n",
              "  </thead>\n",
              "  <tbody>\n",
              "    <tr>\n",
              "      <th>0</th>\n",
              "      <td>Backtracking</td>\n",
              "      <td>0.001152</td>\n",
              "      <td>95</td>\n",
              "    </tr>\n",
              "    <tr>\n",
              "      <th>1</th>\n",
              "      <td>Las Vegas</td>\n",
              "      <td>0.000020</td>\n",
              "      <td>126</td>\n",
              "    </tr>\n",
              "    <tr>\n",
              "      <th>2</th>\n",
              "      <td>CSP</td>\n",
              "      <td>0.000019</td>\n",
              "      <td>55</td>\n",
              "    </tr>\n",
              "  </tbody>\n",
              "</table>\n",
              "</div>\n",
              "    <div class=\"colab-df-buttons\">\n",
              "\n",
              "  <div class=\"colab-df-container\">\n",
              "    <button class=\"colab-df-convert\" onclick=\"convertToInteractive('df-825d6f3c-65ac-4e16-b4b7-8b1467f2285f')\"\n",
              "            title=\"Convert this dataframe to an interactive table.\"\n",
              "            style=\"display:none;\">\n",
              "\n",
              "  <svg xmlns=\"http://www.w3.org/2000/svg\" height=\"24px\" viewBox=\"0 -960 960 960\">\n",
              "    <path d=\"M120-120v-720h720v720H120Zm60-500h600v-160H180v160Zm220 220h160v-160H400v160Zm0 220h160v-160H400v160ZM180-400h160v-160H180v160Zm440 0h160v-160H620v160ZM180-180h160v-160H180v160Zm440 0h160v-160H620v160Z\"/>\n",
              "  </svg>\n",
              "    </button>\n",
              "\n",
              "  <style>\n",
              "    .colab-df-container {\n",
              "      display:flex;\n",
              "      gap: 12px;\n",
              "    }\n",
              "\n",
              "    .colab-df-convert {\n",
              "      background-color: #E8F0FE;\n",
              "      border: none;\n",
              "      border-radius: 50%;\n",
              "      cursor: pointer;\n",
              "      display: none;\n",
              "      fill: #1967D2;\n",
              "      height: 32px;\n",
              "      padding: 0 0 0 0;\n",
              "      width: 32px;\n",
              "    }\n",
              "\n",
              "    .colab-df-convert:hover {\n",
              "      background-color: #E2EBFA;\n",
              "      box-shadow: 0px 1px 2px rgba(60, 64, 67, 0.3), 0px 1px 3px 1px rgba(60, 64, 67, 0.15);\n",
              "      fill: #174EA6;\n",
              "    }\n",
              "\n",
              "    .colab-df-buttons div {\n",
              "      margin-bottom: 4px;\n",
              "    }\n",
              "\n",
              "    [theme=dark] .colab-df-convert {\n",
              "      background-color: #3B4455;\n",
              "      fill: #D2E3FC;\n",
              "    }\n",
              "\n",
              "    [theme=dark] .colab-df-convert:hover {\n",
              "      background-color: #434B5C;\n",
              "      box-shadow: 0px 1px 3px 1px rgba(0, 0, 0, 0.15);\n",
              "      filter: drop-shadow(0px 1px 2px rgba(0, 0, 0, 0.3));\n",
              "      fill: #FFFFFF;\n",
              "    }\n",
              "  </style>\n",
              "\n",
              "    <script>\n",
              "      const buttonEl =\n",
              "        document.querySelector('#df-825d6f3c-65ac-4e16-b4b7-8b1467f2285f button.colab-df-convert');\n",
              "      buttonEl.style.display =\n",
              "        google.colab.kernel.accessAllowed ? 'block' : 'none';\n",
              "\n",
              "      async function convertToInteractive(key) {\n",
              "        const element = document.querySelector('#df-825d6f3c-65ac-4e16-b4b7-8b1467f2285f');\n",
              "        const dataTable =\n",
              "          await google.colab.kernel.invokeFunction('convertToInteractive',\n",
              "                                                    [key], {});\n",
              "        if (!dataTable) return;\n",
              "\n",
              "        const docLinkHtml = 'Like what you see? Visit the ' +\n",
              "          '<a target=\"_blank\" href=https://colab.research.google.com/notebooks/data_table.ipynb>data table notebook</a>'\n",
              "          + ' to learn more about interactive tables.';\n",
              "        element.innerHTML = '';\n",
              "        dataTable['output_type'] = 'display_data';\n",
              "        await google.colab.output.renderOutput(dataTable, element);\n",
              "        const docLink = document.createElement('div');\n",
              "        docLink.innerHTML = docLinkHtml;\n",
              "        element.appendChild(docLink);\n",
              "      }\n",
              "    </script>\n",
              "  </div>\n",
              "\n",
              "\n",
              "<div id=\"df-20ef9aeb-aae8-4faf-9597-e22e455b0358\">\n",
              "  <button class=\"colab-df-quickchart\" onclick=\"quickchart('df-20ef9aeb-aae8-4faf-9597-e22e455b0358')\"\n",
              "            title=\"Suggest charts.\"\n",
              "            style=\"display:none;\">\n",
              "\n",
              "<svg xmlns=\"http://www.w3.org/2000/svg\" height=\"24px\"viewBox=\"0 0 24 24\"\n",
              "     width=\"24px\">\n",
              "    <g>\n",
              "        <path d=\"M19 3H5c-1.1 0-2 .9-2 2v14c0 1.1.9 2 2 2h14c1.1 0 2-.9 2-2V5c0-1.1-.9-2-2-2zM9 17H7v-7h2v7zm4 0h-2V7h2v10zm4 0h-2v-4h2v4z\"/>\n",
              "    </g>\n",
              "</svg>\n",
              "  </button>\n",
              "\n",
              "<style>\n",
              "  .colab-df-quickchart {\n",
              "      --bg-color: #E8F0FE;\n",
              "      --fill-color: #1967D2;\n",
              "      --hover-bg-color: #E2EBFA;\n",
              "      --hover-fill-color: #174EA6;\n",
              "      --disabled-fill-color: #AAA;\n",
              "      --disabled-bg-color: #DDD;\n",
              "  }\n",
              "\n",
              "  [theme=dark] .colab-df-quickchart {\n",
              "      --bg-color: #3B4455;\n",
              "      --fill-color: #D2E3FC;\n",
              "      --hover-bg-color: #434B5C;\n",
              "      --hover-fill-color: #FFFFFF;\n",
              "      --disabled-bg-color: #3B4455;\n",
              "      --disabled-fill-color: #666;\n",
              "  }\n",
              "\n",
              "  .colab-df-quickchart {\n",
              "    background-color: var(--bg-color);\n",
              "    border: none;\n",
              "    border-radius: 50%;\n",
              "    cursor: pointer;\n",
              "    display: none;\n",
              "    fill: var(--fill-color);\n",
              "    height: 32px;\n",
              "    padding: 0;\n",
              "    width: 32px;\n",
              "  }\n",
              "\n",
              "  .colab-df-quickchart:hover {\n",
              "    background-color: var(--hover-bg-color);\n",
              "    box-shadow: 0 1px 2px rgba(60, 64, 67, 0.3), 0 1px 3px 1px rgba(60, 64, 67, 0.15);\n",
              "    fill: var(--button-hover-fill-color);\n",
              "  }\n",
              "\n",
              "  .colab-df-quickchart-complete:disabled,\n",
              "  .colab-df-quickchart-complete:disabled:hover {\n",
              "    background-color: var(--disabled-bg-color);\n",
              "    fill: var(--disabled-fill-color);\n",
              "    box-shadow: none;\n",
              "  }\n",
              "\n",
              "  .colab-df-spinner {\n",
              "    border: 2px solid var(--fill-color);\n",
              "    border-color: transparent;\n",
              "    border-bottom-color: var(--fill-color);\n",
              "    animation:\n",
              "      spin 1s steps(1) infinite;\n",
              "  }\n",
              "\n",
              "  @keyframes spin {\n",
              "    0% {\n",
              "      border-color: transparent;\n",
              "      border-bottom-color: var(--fill-color);\n",
              "      border-left-color: var(--fill-color);\n",
              "    }\n",
              "    20% {\n",
              "      border-color: transparent;\n",
              "      border-left-color: var(--fill-color);\n",
              "      border-top-color: var(--fill-color);\n",
              "    }\n",
              "    30% {\n",
              "      border-color: transparent;\n",
              "      border-left-color: var(--fill-color);\n",
              "      border-top-color: var(--fill-color);\n",
              "      border-right-color: var(--fill-color);\n",
              "    }\n",
              "    40% {\n",
              "      border-color: transparent;\n",
              "      border-right-color: var(--fill-color);\n",
              "      border-top-color: var(--fill-color);\n",
              "    }\n",
              "    60% {\n",
              "      border-color: transparent;\n",
              "      border-right-color: var(--fill-color);\n",
              "    }\n",
              "    80% {\n",
              "      border-color: transparent;\n",
              "      border-right-color: var(--fill-color);\n",
              "      border-bottom-color: var(--fill-color);\n",
              "    }\n",
              "    90% {\n",
              "      border-color: transparent;\n",
              "      border-bottom-color: var(--fill-color);\n",
              "    }\n",
              "  }\n",
              "</style>\n",
              "\n",
              "  <script>\n",
              "    async function quickchart(key) {\n",
              "      const quickchartButtonEl =\n",
              "        document.querySelector('#' + key + ' button');\n",
              "      quickchartButtonEl.disabled = true;  // To prevent multiple clicks.\n",
              "      quickchartButtonEl.classList.add('colab-df-spinner');\n",
              "      try {\n",
              "        const charts = await google.colab.kernel.invokeFunction(\n",
              "            'suggestCharts', [key], {});\n",
              "      } catch (error) {\n",
              "        console.error('Error during call to suggestCharts:', error);\n",
              "      }\n",
              "      quickchartButtonEl.classList.remove('colab-df-spinner');\n",
              "      quickchartButtonEl.classList.add('colab-df-quickchart-complete');\n",
              "    }\n",
              "    (() => {\n",
              "      let quickchartButtonEl =\n",
              "        document.querySelector('#df-20ef9aeb-aae8-4faf-9597-e22e455b0358 button');\n",
              "      quickchartButtonEl.style.display =\n",
              "        google.colab.kernel.accessAllowed ? 'block' : 'none';\n",
              "    })();\n",
              "  </script>\n",
              "</div>\n",
              "    </div>\n",
              "  </div>\n"
            ]
          },
          "metadata": {},
          "execution_count": 254
        }
      ]
    },
    {
      "cell_type": "markdown",
      "source": [
        "Realizamos pruebas de rendimiento (Tiempo) para los algoritmos resolviendo 999 Tableros\n",
        "\n",
        "\n",
        "---\n",
        "\n"
      ],
      "metadata": {
        "id": "iJLvXoT2HerU"
      }
    },
    {
      "cell_type": "code",
      "source": [
        "start_time = time.time()\n",
        "for puzzle in puzzles:\n",
        "  backtracking_sudoku_solver(extract_sudoku(puzzle))\n",
        "end_time = time.time()\n",
        "\n",
        "final_time_bt = end_time-start_time\n",
        "print(f\"Tiempo para {len(puzzles)} tableros {final_time_bt} segundos usando Backtracking\")"
      ],
      "metadata": {
        "colab": {
          "base_uri": "https://localhost:8080/"
        },
        "id": "iLYjm_4uFtvP",
        "outputId": "53567e7a-7446-4815-b7fd-f1622d967b80"
      },
      "execution_count": null,
      "outputs": [
        {
          "output_type": "stream",
          "name": "stdout",
          "text": [
            "Tiempo para 999 tableros 13.80496335029602 segundos usando Backtracking\n"
          ]
        }
      ]
    },
    {
      "cell_type": "code",
      "source": [
        "start_time = time.time()\n",
        "for puzzle in puzzles:\n",
        "  las_vegas_sudoku_solver(extract_sudoku(puzzle))\n",
        "end_time = time.time()\n",
        "\n",
        "final_time_lv = end_time-start_time\n",
        "print(f\"Tiempo para {len(puzzles)} tableros {final_time_lv} segundos usando Las Vegas\")"
      ],
      "metadata": {
        "colab": {
          "base_uri": "https://localhost:8080/"
        },
        "id": "CJjxas-SF4ME",
        "outputId": "e61907d5-ca82-4d73-af07-4c212960b55e"
      },
      "execution_count": null,
      "outputs": [
        {
          "output_type": "stream",
          "name": "stdout",
          "text": [
            "Tiempo para 999 tableros 18.024020671844482 segundos usando Las Vegas\n"
          ]
        }
      ]
    },
    {
      "cell_type": "code",
      "source": [
        "start_time = time.time()\n",
        "for puzzle in puzzles:\n",
        "  csp_sudoku_solver(extract_sudoku(puzzle))\n",
        "end_time = time.time()\n",
        "\n",
        "final_time_csp = end_time-start_time\n",
        "print(f\"Tiempo para {len(puzzles)} tableros {final_time_csp} segundos usando Heuristica\")"
      ],
      "metadata": {
        "colab": {
          "base_uri": "https://localhost:8080/"
        },
        "id": "vlMZ3WqoHHbb",
        "outputId": "a9b75244-1f83-47b7-cbd0-bf3771b16fef"
      },
      "execution_count": null,
      "outputs": [
        {
          "output_type": "stream",
          "name": "stdout",
          "text": [
            "Tiempo para 999 tableros 6.023550271987915 segundos usando Heuristica\n"
          ]
        }
      ]
    },
    {
      "cell_type": "code",
      "source": [
        "df_purete = pd.DataFrame(\n",
        "    {\n",
        "        \"Algoritmo\":[\n",
        "            \"Backtracking\",\n",
        "            \"Las Vegas\",\n",
        "            \"CSP\"\n",
        "        ],\n",
        "        \"Tiempo (Segundos)\":[\n",
        "            final_time_bt,\n",
        "            final_time_lv,\n",
        "            final_time_csp,\n",
        "        ],\n",
        "        \"Cantidad de Nodos Expandidos\":[\n",
        "            expanded_nodes_bt,\n",
        "            expanded_nodes_lv,\n",
        "            expanded_nodes_csp,\n",
        "        ],\n",
        "    }\n",
        ")\n",
        "df_purete"
      ],
      "metadata": {
        "colab": {
          "base_uri": "https://localhost:8080/",
          "height": 143
        },
        "id": "g8A6vp7XHyOP",
        "outputId": "33864235-2ffd-495e-a702-a1222acf0535"
      },
      "execution_count": null,
      "outputs": [
        {
          "output_type": "execute_result",
          "data": {
            "text/plain": [
              "      Algoritmo  Tiempo (Segundos)  Cantidad de Nodos Expandidos\n",
              "0  Backtracking          13.804963                        795861\n",
              "1     Las Vegas          18.024021                        810504\n",
              "2           CSP           6.023550                         46442"
            ],
            "text/html": [
              "\n",
              "  <div id=\"df-c2f77879-5032-4d75-8c14-52c5c3195c84\" class=\"colab-df-container\">\n",
              "    <div>\n",
              "<style scoped>\n",
              "    .dataframe tbody tr th:only-of-type {\n",
              "        vertical-align: middle;\n",
              "    }\n",
              "\n",
              "    .dataframe tbody tr th {\n",
              "        vertical-align: top;\n",
              "    }\n",
              "\n",
              "    .dataframe thead th {\n",
              "        text-align: right;\n",
              "    }\n",
              "</style>\n",
              "<table border=\"1\" class=\"dataframe\">\n",
              "  <thead>\n",
              "    <tr style=\"text-align: right;\">\n",
              "      <th></th>\n",
              "      <th>Algoritmo</th>\n",
              "      <th>Tiempo (Segundos)</th>\n",
              "      <th>Cantidad de Nodos Expandidos</th>\n",
              "    </tr>\n",
              "  </thead>\n",
              "  <tbody>\n",
              "    <tr>\n",
              "      <th>0</th>\n",
              "      <td>Backtracking</td>\n",
              "      <td>13.804963</td>\n",
              "      <td>795861</td>\n",
              "    </tr>\n",
              "    <tr>\n",
              "      <th>1</th>\n",
              "      <td>Las Vegas</td>\n",
              "      <td>18.024021</td>\n",
              "      <td>810504</td>\n",
              "    </tr>\n",
              "    <tr>\n",
              "      <th>2</th>\n",
              "      <td>CSP</td>\n",
              "      <td>6.023550</td>\n",
              "      <td>46442</td>\n",
              "    </tr>\n",
              "  </tbody>\n",
              "</table>\n",
              "</div>\n",
              "    <div class=\"colab-df-buttons\">\n",
              "\n",
              "  <div class=\"colab-df-container\">\n",
              "    <button class=\"colab-df-convert\" onclick=\"convertToInteractive('df-c2f77879-5032-4d75-8c14-52c5c3195c84')\"\n",
              "            title=\"Convert this dataframe to an interactive table.\"\n",
              "            style=\"display:none;\">\n",
              "\n",
              "  <svg xmlns=\"http://www.w3.org/2000/svg\" height=\"24px\" viewBox=\"0 -960 960 960\">\n",
              "    <path d=\"M120-120v-720h720v720H120Zm60-500h600v-160H180v160Zm220 220h160v-160H400v160Zm0 220h160v-160H400v160ZM180-400h160v-160H180v160Zm440 0h160v-160H620v160ZM180-180h160v-160H180v160Zm440 0h160v-160H620v160Z\"/>\n",
              "  </svg>\n",
              "    </button>\n",
              "\n",
              "  <style>\n",
              "    .colab-df-container {\n",
              "      display:flex;\n",
              "      gap: 12px;\n",
              "    }\n",
              "\n",
              "    .colab-df-convert {\n",
              "      background-color: #E8F0FE;\n",
              "      border: none;\n",
              "      border-radius: 50%;\n",
              "      cursor: pointer;\n",
              "      display: none;\n",
              "      fill: #1967D2;\n",
              "      height: 32px;\n",
              "      padding: 0 0 0 0;\n",
              "      width: 32px;\n",
              "    }\n",
              "\n",
              "    .colab-df-convert:hover {\n",
              "      background-color: #E2EBFA;\n",
              "      box-shadow: 0px 1px 2px rgba(60, 64, 67, 0.3), 0px 1px 3px 1px rgba(60, 64, 67, 0.15);\n",
              "      fill: #174EA6;\n",
              "    }\n",
              "\n",
              "    .colab-df-buttons div {\n",
              "      margin-bottom: 4px;\n",
              "    }\n",
              "\n",
              "    [theme=dark] .colab-df-convert {\n",
              "      background-color: #3B4455;\n",
              "      fill: #D2E3FC;\n",
              "    }\n",
              "\n",
              "    [theme=dark] .colab-df-convert:hover {\n",
              "      background-color: #434B5C;\n",
              "      box-shadow: 0px 1px 3px 1px rgba(0, 0, 0, 0.15);\n",
              "      filter: drop-shadow(0px 1px 2px rgba(0, 0, 0, 0.3));\n",
              "      fill: #FFFFFF;\n",
              "    }\n",
              "  </style>\n",
              "\n",
              "    <script>\n",
              "      const buttonEl =\n",
              "        document.querySelector('#df-c2f77879-5032-4d75-8c14-52c5c3195c84 button.colab-df-convert');\n",
              "      buttonEl.style.display =\n",
              "        google.colab.kernel.accessAllowed ? 'block' : 'none';\n",
              "\n",
              "      async function convertToInteractive(key) {\n",
              "        const element = document.querySelector('#df-c2f77879-5032-4d75-8c14-52c5c3195c84');\n",
              "        const dataTable =\n",
              "          await google.colab.kernel.invokeFunction('convertToInteractive',\n",
              "                                                    [key], {});\n",
              "        if (!dataTable) return;\n",
              "\n",
              "        const docLinkHtml = 'Like what you see? Visit the ' +\n",
              "          '<a target=\"_blank\" href=https://colab.research.google.com/notebooks/data_table.ipynb>data table notebook</a>'\n",
              "          + ' to learn more about interactive tables.';\n",
              "        element.innerHTML = '';\n",
              "        dataTable['output_type'] = 'display_data';\n",
              "        await google.colab.output.renderOutput(dataTable, element);\n",
              "        const docLink = document.createElement('div');\n",
              "        docLink.innerHTML = docLinkHtml;\n",
              "        element.appendChild(docLink);\n",
              "      }\n",
              "    </script>\n",
              "  </div>\n",
              "\n",
              "\n",
              "<div id=\"df-8742f399-3267-46f9-9c5c-0eb0bd123c66\">\n",
              "  <button class=\"colab-df-quickchart\" onclick=\"quickchart('df-8742f399-3267-46f9-9c5c-0eb0bd123c66')\"\n",
              "            title=\"Suggest charts.\"\n",
              "            style=\"display:none;\">\n",
              "\n",
              "<svg xmlns=\"http://www.w3.org/2000/svg\" height=\"24px\"viewBox=\"0 0 24 24\"\n",
              "     width=\"24px\">\n",
              "    <g>\n",
              "        <path d=\"M19 3H5c-1.1 0-2 .9-2 2v14c0 1.1.9 2 2 2h14c1.1 0 2-.9 2-2V5c0-1.1-.9-2-2-2zM9 17H7v-7h2v7zm4 0h-2V7h2v10zm4 0h-2v-4h2v4z\"/>\n",
              "    </g>\n",
              "</svg>\n",
              "  </button>\n",
              "\n",
              "<style>\n",
              "  .colab-df-quickchart {\n",
              "      --bg-color: #E8F0FE;\n",
              "      --fill-color: #1967D2;\n",
              "      --hover-bg-color: #E2EBFA;\n",
              "      --hover-fill-color: #174EA6;\n",
              "      --disabled-fill-color: #AAA;\n",
              "      --disabled-bg-color: #DDD;\n",
              "  }\n",
              "\n",
              "  [theme=dark] .colab-df-quickchart {\n",
              "      --bg-color: #3B4455;\n",
              "      --fill-color: #D2E3FC;\n",
              "      --hover-bg-color: #434B5C;\n",
              "      --hover-fill-color: #FFFFFF;\n",
              "      --disabled-bg-color: #3B4455;\n",
              "      --disabled-fill-color: #666;\n",
              "  }\n",
              "\n",
              "  .colab-df-quickchart {\n",
              "    background-color: var(--bg-color);\n",
              "    border: none;\n",
              "    border-radius: 50%;\n",
              "    cursor: pointer;\n",
              "    display: none;\n",
              "    fill: var(--fill-color);\n",
              "    height: 32px;\n",
              "    padding: 0;\n",
              "    width: 32px;\n",
              "  }\n",
              "\n",
              "  .colab-df-quickchart:hover {\n",
              "    background-color: var(--hover-bg-color);\n",
              "    box-shadow: 0 1px 2px rgba(60, 64, 67, 0.3), 0 1px 3px 1px rgba(60, 64, 67, 0.15);\n",
              "    fill: var(--button-hover-fill-color);\n",
              "  }\n",
              "\n",
              "  .colab-df-quickchart-complete:disabled,\n",
              "  .colab-df-quickchart-complete:disabled:hover {\n",
              "    background-color: var(--disabled-bg-color);\n",
              "    fill: var(--disabled-fill-color);\n",
              "    box-shadow: none;\n",
              "  }\n",
              "\n",
              "  .colab-df-spinner {\n",
              "    border: 2px solid var(--fill-color);\n",
              "    border-color: transparent;\n",
              "    border-bottom-color: var(--fill-color);\n",
              "    animation:\n",
              "      spin 1s steps(1) infinite;\n",
              "  }\n",
              "\n",
              "  @keyframes spin {\n",
              "    0% {\n",
              "      border-color: transparent;\n",
              "      border-bottom-color: var(--fill-color);\n",
              "      border-left-color: var(--fill-color);\n",
              "    }\n",
              "    20% {\n",
              "      border-color: transparent;\n",
              "      border-left-color: var(--fill-color);\n",
              "      border-top-color: var(--fill-color);\n",
              "    }\n",
              "    30% {\n",
              "      border-color: transparent;\n",
              "      border-left-color: var(--fill-color);\n",
              "      border-top-color: var(--fill-color);\n",
              "      border-right-color: var(--fill-color);\n",
              "    }\n",
              "    40% {\n",
              "      border-color: transparent;\n",
              "      border-right-color: var(--fill-color);\n",
              "      border-top-color: var(--fill-color);\n",
              "    }\n",
              "    60% {\n",
              "      border-color: transparent;\n",
              "      border-right-color: var(--fill-color);\n",
              "    }\n",
              "    80% {\n",
              "      border-color: transparent;\n",
              "      border-right-color: var(--fill-color);\n",
              "      border-bottom-color: var(--fill-color);\n",
              "    }\n",
              "    90% {\n",
              "      border-color: transparent;\n",
              "      border-bottom-color: var(--fill-color);\n",
              "    }\n",
              "  }\n",
              "</style>\n",
              "\n",
              "  <script>\n",
              "    async function quickchart(key) {\n",
              "      const quickchartButtonEl =\n",
              "        document.querySelector('#' + key + ' button');\n",
              "      quickchartButtonEl.disabled = true;  // To prevent multiple clicks.\n",
              "      quickchartButtonEl.classList.add('colab-df-spinner');\n",
              "      try {\n",
              "        const charts = await google.colab.kernel.invokeFunction(\n",
              "            'suggestCharts', [key], {});\n",
              "      } catch (error) {\n",
              "        console.error('Error during call to suggestCharts:', error);\n",
              "      }\n",
              "      quickchartButtonEl.classList.remove('colab-df-spinner');\n",
              "      quickchartButtonEl.classList.add('colab-df-quickchart-complete');\n",
              "    }\n",
              "    (() => {\n",
              "      let quickchartButtonEl =\n",
              "        document.querySelector('#df-8742f399-3267-46f9-9c5c-0eb0bd123c66 button');\n",
              "      quickchartButtonEl.style.display =\n",
              "        google.colab.kernel.accessAllowed ? 'block' : 'none';\n",
              "    })();\n",
              "  </script>\n",
              "</div>\n",
              "    </div>\n",
              "  </div>\n"
            ]
          },
          "metadata": {},
          "execution_count": 258
        }
      ]
    },
    {
      "cell_type": "markdown",
      "source": [
        "Se prueba con casos generales de N"
      ],
      "metadata": {
        "id": "oMBQ5pL2Q6Zz"
      }
    },
    {
      "cell_type": "code",
      "source": [
        "# def possible_values_general(board, row, col, N):\n",
        "#     values = set(range(1, N*N + 1))\n",
        "#     values -= set(board[row])\n",
        "#     values -= set([board[i][col] for i in range(N*N)])\n",
        "#     start_row, start_col = N * (row // N), N * (col // N)\n",
        "#     values -= set([board[start_row + i][start_col + j] for i in range(N) for j in range(N)])\n",
        "\n",
        "#     return values\n",
        "\n",
        "# def most_constrained_cell_general(board, N):\n",
        "#     min_possible_values = N*N + 1\n",
        "#     mcv = None\n",
        "\n",
        "#     for i in range(N*N):\n",
        "#         for j in range(N*N):\n",
        "#             if board[i][j] == 0:\n",
        "#                 num_possible_values = len(possible_values_general(board, i, j, N))\n",
        "#                 if num_possible_values < min_possible_values:\n",
        "#                     min_possible_values = num_possible_values\n",
        "#                     mcv = (i, j)\n",
        "\n",
        "#     return mcv\n",
        "\n",
        "# def csp_sudoku_solver_general(board, N):\n",
        "#     mcv = most_constrained_cell_general(board, N)\n",
        "#     if not mcv:\n",
        "#         return True\n",
        "#     row, col = mcv\n",
        "\n",
        "#     for num in possible_values_general(board, row, col, N):\n",
        "#         board[row][col] = num\n",
        "#         if csp_sudoku_solver_general(board, N):\n",
        "#             return True\n",
        "#         board[row][col] = 0\n",
        "#     return False"
      ],
      "metadata": {
        "id": "dGoqP6d5Rbwa"
      },
      "execution_count": null,
      "outputs": []
    },
    {
      "cell_type": "code",
      "source": [
        "# tablero = input(\"Cual es el tablero? (Ejemplo: 123456)\")\n",
        "# print()\n",
        "\n",
        "# n = len(tablero) ** 0.5\n",
        "\n",
        "# try:\n",
        "#   if(int(n)<= 0):\n",
        "#     print(\"El minimo debe ser 3\")\n",
        "#   if (int(n) % 3 != 0):\n",
        "#     print(\"Debe ser un multiplo de 3!!\")\n",
        "# except:\n",
        "#   print(\"Debe ser un numero\")\n",
        "\n",
        "# n_value = int(n)\n",
        "\n",
        "# sudoku_board = extract_sudoku(tablero)\n",
        "\n",
        "# print(\"Tablero inicial\")\n",
        "# print(np.matrix(sudoku_board))\n",
        "\n",
        "# print_solution(backtracking_sudoku_solver,sudoku_board)\n",
        "# print_solution(csp_sudoku_solver_general,sudoku_board)\n",
        "\n"
      ],
      "metadata": {
        "id": "yiA6sP8MPvFh"
      },
      "execution_count": null,
      "outputs": []
    },
    {
      "cell_type": "code",
      "source": [],
      "metadata": {
        "id": "_CK0cmy8Puea"
      },
      "execution_count": null,
      "outputs": []
    }
  ]
}